{
 "cells": [
  {
   "cell_type": "code",
   "execution_count": 394,
   "metadata": {},
   "outputs": [],
   "source": [
    "import numpy as np\n",
    "import matplotlib.pyplot as plt\n",
    "import pandas as pd\n",
    "import seaborn as sns\n",
    "from string import punctuation\n",
    "import re\n",
    "from utils import *"
   ]
  },
  {
   "cell_type": "code",
   "execution_count": 395,
   "metadata": {},
   "outputs": [],
   "source": [
    "df_bernardo = pd.read_csv('data/bernardoArevalo.csv')\n",
    "df_sandra = pd.read_csv('data/sandraTorres.csv')"
   ]
  },
  {
   "cell_type": "code",
   "execution_count": 396,
   "metadata": {},
   "outputs": [],
   "source": [
    "# Limpieza de datos\n",
    "\n",
    "df_bernardo = df_bernardo.drop(df_bernardo.columns[0], axis=1)\t# Primera columna no es necesaria\n",
    "df_bernardo = df_bernardo.apply(lambda x: x.astype(str).str.lower())\t# convertir todo a minúscula\n",
    "df_bernardo = df_bernardo.drop(['id'], axis=1)\n",
    "df_bernardo = df_bernardo.drop(['id_str'], axis=1)\n",
    "df_bernardo = df_bernardo.drop(['url'], axis=1)\n",
    "\n",
    "# Eliminar signos de puntuacion\n",
    "df_bernardo['rawContent'] = df_bernardo['rawContent'].apply(lambda x: ''.join([i for i in x if i not in punctuation]))\n",
    "\n",
    "# Eliminar @\n",
    "df_bernardo['rawContent'] = df_bernardo['rawContent'].str.replace('@', '')\n",
    "df_bernardo['rawContent'] = df_bernardo['rawContent'].str.replace('#', '')\n",
    "\n",
    "# Eliminar emoji\n",
    "df_bernardo['rawContent'] = df_bernardo['rawContent'].apply(lambda x: emoji_pattern.sub(r'', x))\n",
    "df_bernardo['rawContent'] = df_bernardo['rawContent'].apply(lambda x: ' '.join([word for word in x.split() if word not in (stop_words)]))\n",
    "\n",
    "df_bernardo = df_bernardo[df_bernardo['lang'] == 'es']\n",
    "\n",
    "match = lambda user_str: re.search(r\"'username':\\s*'([^']+)'\", user_str)\n",
    "username_from_str = lambda user_str: match(user_str).group(1) if match(user_str) else None\n",
    "df_bernardo['tweet_username'] = df_bernardo['user'].apply(username_from_str)\n",
    "\n"
   ]
  },
  {
   "cell_type": "code",
   "execution_count": 397,
   "metadata": {},
   "outputs": [],
   "source": [
    "\n",
    "# Limpieza de datos\n",
    "\n",
    "df_sandra = df_sandra.drop(df_sandra.columns[0], axis=1)\t# Primera columna no es necesaria\n",
    "df_sandra = df_sandra.apply(lambda x: x.astype(str).str.lower())\t# convertir todo a minúscula\n",
    "if 'id' in df_sandra.columns:\n",
    "    df_sandra = df_sandra.drop(['id'], axis=1)\n",
    "if 'id_str' in df_sandra.columns:\n",
    "    df_sandra = df_sandra.drop(['id_str'], axis=1)\n",
    "df_sandra = df_sandra.drop(['url'], axis=1)\n",
    "\n",
    "# Eliminar signos de puntuacion\n",
    "df_sandra['rawContent'] = df_sandra['rawContent'].apply(lambda x: ''.join([i for i in x if i not in punctuation]))\n",
    "\n",
    "# Eliminar @\n",
    "df_sandra['rawContent'] = df_sandra['rawContent'].str.replace('@', '')\n",
    "df_sandra['rawContent'] = df_sandra['rawContent'].str.replace('#', '')\n",
    "\n",
    "# Eliminar emoji\n",
    "df_sandra['rawContent'] = df_sandra['rawContent'].apply(lambda x: emoji_pattern.sub(r'', x))\n",
    "df_sandra['rawContent'] = df_sandra['rawContent'].apply(lambda x: ' '.join([word for word in x.split() if word not in (stop_words)]))\n",
    "\n",
    "df_sandra = df_sandra[df_sandra['lang'] == 'es']\n",
    "df_sandra['tweet_username'] = df_sandra['user'].apply(username_from_str)\n",
    "\n"
   ]
  }
 ],
 "metadata": {
  "language_info": {
   "name": "python"
  },
  "orig_nbformat": 4
 },
 "nbformat": 4,
 "nbformat_minor": 2
}
